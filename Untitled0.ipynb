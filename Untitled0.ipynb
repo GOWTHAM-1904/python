{
  "nbformat": 4,
  "nbformat_minor": 0,
  "metadata": {
    "colab": {
      "name": "Untitled0.ipynb",
      "provenance": [],
      "authorship_tag": "ABX9TyOQtd3HwI2YcEAO6LftJclL",
      "include_colab_link": true
    },
    "kernelspec": {
      "name": "python3",
      "display_name": "Python 3"
    },
    "language_info": {
      "name": "python"
    }
  },
  "cells": [
    {
      "cell_type": "markdown",
      "metadata": {
        "id": "view-in-github",
        "colab_type": "text"
      },
      "source": [
        "<a href=\"https://colab.research.google.com/github/GOWTHAM-1904/python/blob/main/Untitled0.ipynb\" target=\"_parent\"><img src=\"https://colab.research.google.com/assets/colab-badge.svg\" alt=\"Open In Colab\"/></a>"
      ]
    },
    {
      "cell_type": "code",
      "metadata": {
        "colab": {
          "base_uri": "https://localhost:8080/"
        },
        "id": "R82tZZWi35bL",
        "outputId": "34a4d5cd-38c2-4ccf-f45e-ee9f6a6cb793"
      },
      "source": [
        " \n",
        "a=20\n",
        "b=15\n",
        "print(\"Before Swapping\")\n",
        "print(\"a=\",a)\n",
        "print(\"b=\",b)\n",
        "temp=a\n",
        "a=b\n",
        "b=temp\n",
        "print(\"After Swapping\")\n",
        "print(\"a=\",a)\n",
        "print(\"b=\",b)"
      ],
      "execution_count": 1,
      "outputs": [
        {
          "output_type": "stream",
          "text": [
            "Before Swapping\n",
            "a= 20\n",
            "b= 15\n",
            "After Swapping\n",
            "a= 15\n",
            "b= 20\n"
          ],
          "name": "stdout"
        }
      ]
    },
    {
      "cell_type": "code",
      "metadata": {
        "id": "fEZeuSXe4Bs2"
      },
      "source": [
        ""
      ],
      "execution_count": null,
      "outputs": []
    },
    {
      "cell_type": "code",
      "metadata": {
        "id": "YKZdnvWm4Cr9"
      },
      "source": [
        ""
      ],
      "execution_count": null,
      "outputs": []
    }
  ]
}